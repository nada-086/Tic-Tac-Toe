{
  "nbformat": 4,
  "nbformat_minor": 0,
  "metadata": {
    "colab": {
      "provenance": [],
      "authorship_tag": "ABX9TyOq6fMy91ds9+/waRAvyzea",
      "include_colab_link": true
    },
    "kernelspec": {
      "name": "python3",
      "display_name": "Python 3"
    },
    "language_info": {
      "name": "python"
    }
  },
  "cells": [
    {
      "cell_type": "markdown",
      "metadata": {
        "id": "view-in-github",
        "colab_type": "text"
      },
      "source": [
        "<a href=\"https://colab.research.google.com/github/nada-086/Tic-Tac-Toe/blob/main/Tic_Tac_Toe.ipynb\" target=\"_parent\"><img src=\"https://colab.research.google.com/assets/colab-badge.svg\" alt=\"Open In Colab\"/></a>"
      ]
    },
    {
      "cell_type": "code",
      "source": [
        "def print_board(board):\n",
        "  for row in board:\n",
        "    print('-' * 13)\n",
        "    print('|', end='')\n",
        "    for i in row:\n",
        "      print(f' {i} |', end='')\n",
        "    print()\n",
        "  print('-' * 13)"
      ],
      "metadata": {
        "id": "HIIyNtEVJHRw"
      },
      "execution_count": null,
      "outputs": []
    },
    {
      "cell_type": "code",
      "source": [
        "def win(board, player):\n",
        "  win = False\n",
        "  for x in range(3):\n",
        "    if board[x][0] == board[x][1] == board[x][2] == player:\n",
        "      win = True\n",
        "  for y in range(3):\n",
        "    if board[0][y] == board[1][y] == board[2][y] == player:\n",
        "      win = True\n",
        "  if board[0][0] == board[1][1] == board[2][2] == player:\n",
        "    win = True\n",
        "  elif board[0][2] == board[1][1] == board[2][0] == player:\n",
        "    win = True\n",
        "\n",
        "  return win"
      ],
      "metadata": {
        "id": "gXBLgL-XLZe_"
      },
      "execution_count": null,
      "outputs": []
    },
    {
      "cell_type": "code",
      "source": [
        "def tie(board):\n",
        "  for row in board:\n",
        "    if ' ' in row:\n",
        "      return False\n",
        "  return True"
      ],
      "metadata": {
        "id": "H70i1aL7kAXE"
      },
      "execution_count": null,
      "outputs": []
    },
    {
      "cell_type": "code",
      "source": [
        "def take_and_check_input(board, player):\n",
        "  valid = False\n",
        "  x = y = 0\n",
        "  while not valid:\n",
        "      play = input(f\"{player} Plays(Enter the row and the column numbers separated by a space): \").split()\n",
        "      if len(play) != 2:\n",
        "          print(\"Enter Only Two Numbers\")\n",
        "      else:\n",
        "        try:\n",
        "          x = int(play[0]) - 1\n",
        "          y = int(play[1]) - 1\n",
        "          if not 0 <= x <= 2 or not 0 <= y <= 2:\n",
        "            print('Sorry, Index Out Of Range. Please, Enter a Valid Index')\n",
        "          elif board[x][y] != ' ':\n",
        "            print('Sorry, Not Empty Cell. Please, Choose Another One')\n",
        "          else:\n",
        "            valid = True\n",
        "        except ValueError:\n",
        "          print(\"Please Enter a Valid Number.\")\n",
        "\n",
        "  board[x][y] = player\n",
        "  return board"
      ],
      "metadata": {
        "id": "ybcOxxKcPgST"
      },
      "execution_count": null,
      "outputs": []
    },
    {
      "cell_type": "code",
      "source": [
        "from IPython.display import clear_output\n",
        "\n",
        "def main():\n",
        "  board = [[' ' for _ in range(3)] for _ in range(3)]\n",
        "  player = 'X'\n",
        "  while True:\n",
        "    clear_output(wait=True)\n",
        "    print_board(board)\n",
        "    board = take_and_check_input(board, player)\n",
        "\n",
        "    if win(board, player):\n",
        "      print(f\"Congratulations, {player} Wins!!!\")\n",
        "      break\n",
        "    elif tie(board):\n",
        "      print(\"Tie, No Winners!!!\")\n",
        "      break\n",
        "\n",
        "    if player == 'X':\n",
        "      player = 'O'\n",
        "    else:\n",
        "      player = 'X'\n",
        "\n",
        "  print_board(board)"
      ],
      "metadata": {
        "id": "qqcikuxULRpn"
      },
      "execution_count": null,
      "outputs": []
    },
    {
      "cell_type": "code",
      "source": [
        "\n",
        "main()"
      ],
      "metadata": {
        "colab": {
          "base_uri": "https://localhost:8080/"
        },
        "id": "Ewl74FwuQhiZ",
        "outputId": "aa9de2f9-0376-472e-b5d7-1e95aaf6d86c"
      },
      "execution_count": null,
      "outputs": [
        {
          "output_type": "stream",
          "name": "stdout",
          "text": [
            "-------------\n",
            "| X | X |   |\n",
            "-------------\n",
            "|   |   | O |\n",
            "-------------\n",
            "|   |   |   |\n",
            "-------------\n",
            "O Plays(Enter the row and the column numbers separated by a space): 3 4\n",
            "Sorry, Index Out Of Range. Please, Enter a Valid Index\n"
          ]
        }
      ]
    }
  ]
}